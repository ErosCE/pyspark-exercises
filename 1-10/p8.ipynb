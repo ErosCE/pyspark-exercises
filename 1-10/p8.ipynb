{
 "cells": [
  {
   "cell_type": "markdown",
   "id": "e5224e4e",
   "metadata": {},
   "source": [
    "# Pregunta 8\n",
    "Realizar una left join para incluir a todos los empleados incluso a aquellos sin departamentos.<br>"
   ]
  },
  {
   "cell_type": "code",
   "execution_count": 3,
   "id": "8fffc998",
   "metadata": {},
   "outputs": [],
   "source": [
    "from pyspark.sql import SparkSession\n",
    "from pyspark.sql import functions as F\n",
    "spark = SparkSession.builder.appName('Preguntas Join').getOrCreate()\n",
    "df = spark.read.csv('./datasets/employees.csv', header=True, inferSchema=True)"
   ]
  },
  {
   "cell_type": "code",
   "execution_count": 28,
   "id": "72ccedcb",
   "metadata": {},
   "outputs": [
    {
     "name": "stdout",
     "output_type": "stream",
     "text": [
      "+---+------------------+---+------+------+------------+-----------------+----------+--------+-----------+-------+-------+\n",
      "| ID|              Name|Age|Gender|Salary|Joining Date|Performance Score|Experience|  Status|   Location|Session|dept_id|\n",
      "+---+------------------+---+------+------+------------+-----------------+----------+--------+-----------+-------+-------+\n",
      "|  1|      Cory Escobar| 48|Female|  5641|  2015-05-03|              2.0|        16|  Active|   New York|  Night|   NULL|\n",
      "|  2|   Timothy Sanchez| 25| Other|  4249|  2020-11-09|              2.0|        11|Inactive|Los Angeles|Evening|      1|\n",
      "|  3|      Chad Nichols| 57| Other|  3058|  2019-02-12|             NULL|         1|Inactive|   New York|Morning|      1|\n",
      "|  4|Christine Williams| 58|Female|  5895|  2017-09-08|              2.0|        13|Inactive|Los Angeles|Evening|      3|\n",
      "|  5|      Amber Harris| 35| Other|  4317|  2020-02-15|              5.0|        16|Inactive|   New York|Evening|      3|\n",
      "|  6|       Ashley Howe| 29|Female|  2591|  2016-06-24|              1.0|         6|  Active|    Chicago|Evening|   NULL|\n",
      "+---+------------------+---+------+------+------------+-----------------+----------+--------+-----------+-------+-------+\n",
      "only showing top 6 rows\n",
      "\n"
     ]
    }
   ],
   "source": [
    "# Creamos df con Department y dept_id -> Sales:1, HR:None, IT:3 y que ya sea null para HR en Department\n",
    "df_employees = df.withColumn('dept_id',\n",
    "                              F.when(F.col('Department') == 'Sales', 1)\n",
    "                              .when(F.col('Department') == 'HR', F.lit(None))\n",
    "                              .when(F.col('Department') == 'IT', 3))\\\n",
    "                                .drop('Department')\n",
    "# Creamos df solo con dept_id y Department\n",
    "df_department = df.select('Department').distinct()\\\n",
    "                .withColumn('dept_id',\n",
    "                                F.when(F.col('Department') == 'Sales', 1)\n",
    "                                .when(F.col('Department') == 'HR', 2)\n",
    "                                .when(F.col('Department') == 'IT', 3))\n",
    "\n",
    "df_employees.show(6) "
   ]
  },
  {
   "cell_type": "code",
   "execution_count": 30,
   "id": "864d53b3",
   "metadata": {},
   "outputs": [
    {
     "name": "stdout",
     "output_type": "stream",
     "text": [
      "+-------+---+------------------+---+------+------+------------+-----------------+----------+--------+-----------+-------+----------+\n",
      "|dept_id| ID|              Name|Age|Gender|Salary|Joining Date|Performance Score|Experience|  Status|   Location|Session|Department|\n",
      "+-------+---+------------------+---+------+------+------------+-----------------+----------+--------+-----------+-------+----------+\n",
      "|   NULL|  1|      Cory Escobar| 48|Female|  5641|  2015-05-03|              2.0|        16|  Active|   New York|  Night|      NULL|\n",
      "|      1|  2|   Timothy Sanchez| 25| Other|  4249|  2020-11-09|              2.0|        11|Inactive|Los Angeles|Evening|     Sales|\n",
      "|      1|  3|      Chad Nichols| 57| Other|  3058|  2019-02-12|             NULL|         1|Inactive|   New York|Morning|     Sales|\n",
      "|      3|  4|Christine Williams| 58|Female|  5895|  2017-09-08|              2.0|        13|Inactive|Los Angeles|Evening|        IT|\n",
      "|      3|  5|      Amber Harris| 35| Other|  4317|  2020-02-15|              5.0|        16|Inactive|   New York|Evening|        IT|\n",
      "|   NULL|  6|       Ashley Howe| 29|Female|  2591|  2016-06-24|              1.0|         6|  Active|    Chicago|Evening|      NULL|\n",
      "|      1|  7|       David Olson| 39|Female|  6826|  2023-05-11|             NULL|         4|  Active|   New York|  Night|     Sales|\n",
      "|   NULL|  8|      Amanda Baker| 52| Other|  6285|  2015-04-01|             NULL|         8|Inactive|    Chicago|Evening|      NULL|\n",
      "|      1|  9|     Jeremy Wright| 63|Female|  9862|  2024-02-07|             NULL|         3|Inactive|   New York|  Night|     Sales|\n",
      "|      3| 10|    Brian Faulkner| 30|  Male|  8202|  2018-05-26|              1.0|         9|  Active|Los Angeles|Morning|        IT|\n",
      "|      1| 11|       Nicole Bell| 42|Female|  5336|  2015-01-28|              3.0|         7|  Active|Los Angeles|Evening|     Sales|\n",
      "|   NULL| 12| Rodney Richardson| 60| Other|  6908|  2015-03-14|              4.0|        19|  Active|    Chicago|  Night|      NULL|\n",
      "|      3| 13|   Joshua Robinson| 61|  Male|  5688|  2020-06-21|             NULL|         4|Inactive|    Chicago|  Night|        IT|\n",
      "|      3| 14| Benjamin Callahan| 34|  Male|  5593|  2019-06-23|             NULL|         2|Inactive|Los Angeles|  Night|        IT|\n",
      "|      1| 15|Matthew Collins MD| 31|Female|  8568|  2020-06-01|             NULL|        20|Inactive|Los Angeles|Evening|     Sales|\n",
      "|   NULL| 16|       Gary Cooley| 62|  Male|  5386|  2017-07-25|             NULL|         2|Inactive|    Chicago|Morning|      NULL|\n",
      "|   NULL| 17|    Jonathan Perez| 59|  Male|  6586|  2019-02-19|              3.0|         7|Inactive|Los Angeles|Evening|      NULL|\n",
      "|   NULL| 18|Jacqueline Randall| 31|Female|  3519|  2018-05-18|              4.0|         6|  Active|   New York|Morning|      NULL|\n",
      "|   NULL| 19|    Nancy Stephens| 38|  Male|  9061|  2017-07-16|              5.0|        16|Inactive|    Chicago|  Night|      NULL|\n",
      "|   NULL| 20|      Victoria Fox| 57|Female|  7251|  2023-06-07|             NULL|        10|  Active|Los Angeles|Evening|      NULL|\n",
      "+-------+---+------------------+---+------+------+------------+-----------------+----------+--------+-----------+-------+----------+\n",
      "only showing top 20 rows\n",
      "\n"
     ]
    }
   ],
   "source": [
    "# left join para incluir todos los empleados\n",
    "df_join = df_employees.join(df_department, on='dept_id', how='left')\n",
    "df_join.show()  \n"
   ]
  }
 ],
 "metadata": {
  "kernelspec": {
   "display_name": "Python 3 (ipykernel)",
   "language": "python",
   "name": "python3"
  },
  "language_info": {
   "codemirror_mode": {
    "name": "ipython",
    "version": 3
   },
   "file_extension": ".py",
   "mimetype": "text/x-python",
   "name": "python",
   "nbconvert_exporter": "python",
   "pygments_lexer": "ipython3",
   "version": "3.9.2"
  }
 },
 "nbformat": 4,
 "nbformat_minor": 5
}
