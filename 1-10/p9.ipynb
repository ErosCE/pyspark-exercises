{
 "cells": [
  {
   "cell_type": "markdown",
   "id": "d3c794bb",
   "metadata": {},
   "source": [
    "# Pregunta 9\n",
    "Realizar una unión derecha para obtener todos los clientes, incluidos aquellos sin pedidos\n",
    "Dados dos conjuntos de datos (pedidos y clientes), se necesita realizar una unión derecha para incluir a todos los clientes, incluso si no realizaron ningún pedido."
   ]
  },
  {
   "cell_type": "code",
   "execution_count": 33,
   "id": "f337b0ed",
   "metadata": {},
   "outputs": [],
   "source": [
    "from pyspark.sql import SparkSession\n",
    "from pyspark.sql import functions as F\n",
    "spark = SparkSession.builder.appName(\"Pregunta9\").getOrCreate()\n",
    "df = spark.read.csv('./datasets/restaurant_orders.csv', header=True, inferSchema=True)"
   ]
  },
  {
   "cell_type": "code",
   "execution_count": 34,
   "id": "1e2bdb9d",
   "metadata": {},
   "outputs": [],
   "source": [
    "# Dataframe de solo los clientes con su id de orden\n",
    "df_clients = df.select(['Customer Name','Order ID'])\n",
    "\n",
    "# Dataframe de las ordenes sin el nombre del cliente con un limit de 30 para que exista clientes sin ordenes\n",
    "df_orders = df.select([col for col in df.columns if col != 'Customer Name']).limit(30)\n"
   ]
  },
  {
   "cell_type": "code",
   "execution_count": 35,
   "id": "c83a0edb",
   "metadata": {},
   "outputs": [
    {
     "name": "stdout",
     "output_type": "stream",
     "text": [
      "Clientes con ordenes asignadas:\n",
      "+--------+---------+--------+--------+-----+--------------+-------------------+------------------+\n",
      "|Order ID|Food Item|Category|Quantity|Price|Payment Method|         Order Time|     Customer Name|\n",
      "+--------+---------+--------+--------+-----+--------------+-------------------+------------------+\n",
      "|    2268|    Pasta|    Main|       5|16.52|          Cash|2025-02-02 14:28:41|     Mary Vega DDS|\n",
      "|    3082|  Brownie| Dessert|       4|17.27|    Debit Card|2025-06-08 10:57:47|     Brandon Myers|\n",
      "|    3160|    Pasta|    Main|       1| 3.37|   Credit Card|2025-03-04 07:41:41|    Margaret Wells|\n",
      "|    1272|    Pasta|    Main|       5|  2.2|Online Payment|2025-05-15 12:43:45|  Michael Matthews|\n",
      "|    9447|     Soup| Starter|       1|12.23|          Cash|2025-03-15 14:25:56|   Connor Williams|\n",
      "|    1587|  Brownie| Dessert|       5| 7.39|   Credit Card|2025-04-12 05:49:18|     Matthew Miles|\n",
      "|    2834|     Soup| Starter|       3| 8.31|   Credit Card|2025-06-20 18:19:56|Catherine Thompson|\n",
      "|    4514|     Soup| Starter|       4| 2.28|          Cash|2025-05-30 09:24:15|    Nathan Holland|\n",
      "|    3946|    Pasta|    Main|       1|13.05|   Credit Card|2025-06-03 01:41:32|   Anthony Sherman|\n",
      "|    3174|     Cake| Dessert|       4|19.48|          Cash|2025-07-18 00:59:40|   Carolyn Roberts|\n",
      "+--------+---------+--------+--------+-----+--------------+-------------------+------------------+\n",
      "only showing top 10 rows\n",
      "\n",
      "Clientes sin ordenes asignadas:\n",
      "+--------+---------+--------+--------+-----+--------------+----------+------------------+\n",
      "|Order ID|Food Item|Category|Quantity|Price|Payment Method|Order Time|     Customer Name|\n",
      "+--------+---------+--------+--------+-----+--------------+----------+------------------+\n",
      "|    1088|     NULL|    NULL|    NULL| NULL|          NULL|      NULL|       Carol Lynch|\n",
      "|    6841|     NULL|    NULL|    NULL| NULL|          NULL|      NULL|         Amy Ellis|\n",
      "|    7606|     NULL|    NULL|    NULL| NULL|          NULL|      NULL|  Kathleen Miranda|\n",
      "|    7720|     NULL|    NULL|    NULL| NULL|          NULL|      NULL|        Lynn Smith|\n",
      "|    9332|     NULL|    NULL|    NULL| NULL|          NULL|      NULL|Michelle Rodriguez|\n",
      "|    7106|     NULL|    NULL|    NULL| NULL|          NULL|      NULL|    Emily Mcmillan|\n",
      "|    3007|     NULL|    NULL|    NULL| NULL|          NULL|      NULL|     Gavin Griffin|\n",
      "|    4081|     NULL|    NULL|    NULL| NULL|          NULL|      NULL| Jennifer Friedman|\n",
      "|    7215|     NULL|    NULL|    NULL| NULL|          NULL|      NULL|   Brittany Hughes|\n",
      "|    8800|     NULL|    NULL|    NULL| NULL|          NULL|      NULL|    Margaret Lopez|\n",
      "+--------+---------+--------+--------+-----+--------------+----------+------------------+\n",
      "only showing top 10 rows\n",
      "\n"
     ]
    }
   ],
   "source": [
    "join_right = df_orders.join(df_clients, on = 'Order ID', how = 'right')\n",
    "\n",
    "print(\"Clientes con ordenes asignadas:\")\n",
    "join_right.filter(F.col('Order Time').isNotNull()).show(10)\n",
    "print(\"Clientes sin ordenes asignadas:\")\n",
    "join_right.filter(F.col('Order Time').isNull()).show(10)"
   ]
  }
 ],
 "metadata": {
  "kernelspec": {
   "display_name": "Python 3 (ipykernel)",
   "language": "python",
   "name": "python3"
  },
  "language_info": {
   "codemirror_mode": {
    "name": "ipython",
    "version": 3
   },
   "file_extension": ".py",
   "mimetype": "text/x-python",
   "name": "python",
   "nbconvert_exporter": "python",
   "pygments_lexer": "ipython3",
   "version": "3.9.2"
  }
 },
 "nbformat": 4,
 "nbformat_minor": 5
}
