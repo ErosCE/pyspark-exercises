{
 "cells": [
  {
   "cell_type": "markdown",
   "id": "48205816",
   "metadata": {},
   "source": [
    "# Pregunta 2\n",
    "Calcular el sueldo promedio y el numero de empleados por cada departamento\n"
   ]
  },
  {
   "cell_type": "code",
   "execution_count": 1,
   "id": "7f18d217",
   "metadata": {},
   "outputs": [],
   "source": [
    "from pyspark.sql import SparkSession\n",
    "from pyspark.sql import functions as F"
   ]
  },
  {
   "cell_type": "code",
   "execution_count": 2,
   "id": "2dddcf8a",
   "metadata": {},
   "outputs": [
    {
     "name": "stdout",
     "output_type": "stream",
     "text": [
      "+---+------------------+---+------+----------+------+------------+-----------------+----------+--------+-----------+-------+\n",
      "| ID|              Name|Age|Gender|Department|Salary|Joining Date|Performance Score|Experience|  Status|   Location|Session|\n",
      "+---+------------------+---+------+----------+------+------------+-----------------+----------+--------+-----------+-------+\n",
      "|  1|      Cory Escobar| 48|Female|        HR|  5641|  2015-05-03|              2.0|        16|  Active|   New York|  Night|\n",
      "|  2|   Timothy Sanchez| 25| Other|     Sales|  4249|  2020-11-09|              2.0|        11|Inactive|Los Angeles|Evening|\n",
      "|  3|      Chad Nichols| 57| Other|     Sales|  3058|  2019-02-12|             NULL|         1|Inactive|   New York|Morning|\n",
      "|  4|Christine Williams| 58|Female|        IT|  5895|  2017-09-08|              2.0|        13|Inactive|Los Angeles|Evening|\n",
      "|  5|      Amber Harris| 35| Other|        IT|  4317|  2020-02-15|              5.0|        16|Inactive|   New York|Evening|\n",
      "+---+------------------+---+------+----------+------+------------+-----------------+----------+--------+-----------+-------+\n",
      "only showing top 5 rows\n",
      "\n"
     ]
    }
   ],
   "source": [
    "spark = SparkSession.builder.appName('Pregunta1').getOrCreate()\n",
    "df_employees = spark.read.csv('./datasets/employees.csv', header=True, inferSchema=True)\n",
    "df_employees.show(5)"
   ]
  },
  {
   "cell_type": "code",
   "execution_count": 19,
   "id": "0fbbe32e",
   "metadata": {},
   "outputs": [
    {
     "name": "stdout",
     "output_type": "stream",
     "text": [
      "+----------+--------------------------------+-------------------+\n",
      "|Department|Sueldo promedio por departamento|Numero de empleados|\n",
      "+----------+--------------------------------+-------------------+\n",
      "|     Sales|                5804.08875739645|                338|\n",
      "|        HR|              5982.3962848297215|                323|\n",
      "|        IT|               5968.371681415929|                339|\n",
      "+----------+--------------------------------+-------------------+\n",
      "\n"
     ]
    }
   ],
   "source": [
    "#Calcular el sueldo promedio y el numero de empleados por cada departamento\n",
    "df_avg = df_employees.groupBy('Department')\\\n",
    "    .agg(F.avg('Salary').alias('Sueldo promedio por departamento'),\n",
    "         F.count('*').alias('Numero de empleados'))\n",
    "\n",
    "df_avg.show()\n"
   ]
  }
 ],
 "metadata": {
  "kernelspec": {
   "display_name": "Python 3 (ipykernel)",
   "language": "python",
   "name": "python3"
  },
  "language_info": {
   "codemirror_mode": {
    "name": "ipython",
    "version": 3
   },
   "file_extension": ".py",
   "mimetype": "text/x-python",
   "name": "python",
   "nbconvert_exporter": "python",
   "pygments_lexer": "ipython3",
   "version": "3.9.2"
  }
 },
 "nbformat": 4,
 "nbformat_minor": 5
}
