{
 "cells": [
  {
   "cell_type": "markdown",
   "id": "d459122c",
   "metadata": {},
   "source": [
    "## Pregunta 1\n",
    "Contar la frecuencia de cada palabra e imprimir las N palabras mas comunes"
   ]
  },
  {
   "cell_type": "code",
   "execution_count": 1,
   "id": "fedf3699",
   "metadata": {},
   "outputs": [],
   "source": [
    "from pyspark.sql import SparkSession\n",
    "import pyspark.sql.functions as F"
   ]
  },
  {
   "cell_type": "code",
   "execution_count": 2,
   "id": "18060c59",
   "metadata": {},
   "outputs": [],
   "source": [
    "spark = SparkSession.builder.appName(\"Pregunta1\").getOrCreate()\n",
    "file = spark.read.text(\"./1342-0.txt\")"
   ]
  },
  {
   "cell_type": "code",
   "execution_count": null,
   "id": "222b409e",
   "metadata": {},
   "outputs": [
    {
     "name": "stdout",
     "output_type": "stream",
     "text": [
      "+--------+-----+\n",
      "|palabras|count|\n",
      "+--------+-----+\n",
      "|     the| 4655|\n",
      "|      to| 4291|\n",
      "|      of| 3836|\n",
      "|     and| 3713|\n",
      "|     her| 2276|\n",
      "|       i| 2102|\n",
      "|       a| 2021|\n",
      "|      in| 1977|\n",
      "|     was| 1874|\n",
      "|     she| 1744|\n",
      "+--------+-----+\n",
      "only showing top 10 rows\n",
      "\n"
     ]
    }
   ],
   "source": [
    "#Obtenemos la frecuencia de las palabras\n",
    "count_words = file.select(F.explode(F.split(F.col(\"value\"),\"\\\\s+\")).alias(\"palabras\"))\\\n",
    "    .select(F.lower(F.regexp_replace(F.col('palabras'), \"[^a-zA-Z0-9áéíóúñ]\", \"\")).alias(\"palabras\"))\\\n",
    "    .filter(F.col('palabras') !='')\\\n",
    "    .groupBy('palabras')\\\n",
    "    .count()\\\n",
    "    .orderBy(F.desc('count'))\n",
    "\n",
    "count_words.show(10)    "
   ]
  },
  {
   "cell_type": "code",
   "execution_count": 13,
   "id": "76957e44",
   "metadata": {},
   "outputs": [
    {
     "name": "stdout",
     "output_type": "stream",
     "text": [
      "+--------+-----+\n",
      "|palabras|count|\n",
      "+--------+-----+\n",
      "|     the| 4655|\n",
      "|      to| 4291|\n",
      "|      of| 3836|\n",
      "|     and| 3713|\n",
      "|     her| 2276|\n",
      "|       i| 2102|\n",
      "|       a| 2021|\n",
      "|      in| 1977|\n",
      "|     was| 1874|\n",
      "|     she| 1744|\n",
      "+--------+-----+\n",
      "\n"
     ]
    }
   ],
   "source": [
    "#Obtenemos las N palabras mas comunes\n",
    "# N = int(input(\"Ingrese el numero de palabras mas comunes a mostrar: \")) \n",
    "N = 10\n",
    "top_words = count_words.limit(N)\n",
    "top_words.show()"
   ]
  }
 ],
 "metadata": {
  "kernelspec": {
   "display_name": "Python 3 (ipykernel)",
   "language": "python",
   "name": "python3"
  },
  "language_info": {
   "codemirror_mode": {
    "name": "ipython",
    "version": 3
   },
   "file_extension": ".py",
   "mimetype": "text/x-python",
   "name": "python",
   "nbconvert_exporter": "python",
   "pygments_lexer": "ipython3",
   "version": "3.9.2"
  }
 },
 "nbformat": 4,
 "nbformat_minor": 5
}
