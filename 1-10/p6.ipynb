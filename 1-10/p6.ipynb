{
 "cells": [
  {
   "cell_type": "markdown",
   "id": "ee926dee",
   "metadata": {},
   "source": [
    "# Pregunta 6\n",
    "Agregar una nueva columna a un DataFrame. La nueva columna puede tener un valor constante o derivarse de otras columnas."
   ]
  },
  {
   "cell_type": "code",
   "execution_count": 1,
   "id": "fee7a817",
   "metadata": {},
   "outputs": [],
   "source": [
    "from pyspark.sql import SparkSession\n",
    "from pyspark.sql import functions as F"
   ]
  },
  {
   "cell_type": "code",
   "execution_count": 2,
   "id": "17f5dc7f",
   "metadata": {},
   "outputs": [],
   "source": [
    "spark = SparkSession.builder.appName('Pregunta6').getOrCreate()\n",
    "df = spark.read.csv('./datasets/employees.csv', header=True, inferSchema=True)"
   ]
  },
  {
   "cell_type": "code",
   "execution_count": 6,
   "id": "be7b166a",
   "metadata": {},
   "outputs": [
    {
     "name": "stdout",
     "output_type": "stream",
     "text": [
      "+---+------------------+---+------+----------+------+------------+-----------------+----------+--------+-----------+-------+--------------------+--------------+\n",
      "| ID|              Name|Age|Gender|Department|Salary|Joining Date|Performance Score|Experience|  Status|   Location|Session|         const_value|variable_value|\n",
      "+---+------------------+---+------+----------+------+------------+-----------------+----------+--------+-----------+-------+--------------------+--------------+\n",
      "|  1|      Cory Escobar| 48|Female|        HR|  5641|  2015-05-03|              2.0|        16|  Active|   New York|  Night|Data Engineer com...|       1083072|\n",
      "|  2|   Timothy Sanchez| 25| Other|     Sales|  4249|  2020-11-09|              2.0|        11|Inactive|Los Angeles|Evening|Data Engineer com...|        560868|\n",
      "|  3|      Chad Nichols| 57| Other|     Sales|  3058|  2019-02-12|             NULL|         1|Inactive|   New York|Morning|Data Engineer com...|         36696|\n",
      "|  4|Christine Williams| 58|Female|        IT|  5895|  2017-09-08|              2.0|        13|Inactive|Los Angeles|Evening|Data Engineer com...|        919620|\n",
      "|  5|      Amber Harris| 35| Other|        IT|  4317|  2020-02-15|              5.0|        16|Inactive|   New York|Evening|Data Engineer com...|        828864|\n",
      "|  6|       Ashley Howe| 29|Female|        HR|  2591|  2016-06-24|              1.0|         6|  Active|    Chicago|Evening|Data Engineer com...|        186552|\n",
      "|  7|       David Olson| 39|Female|     Sales|  6826|  2023-05-11|             NULL|         4|  Active|   New York|  Night|Data Engineer com...|        327648|\n",
      "|  8|      Amanda Baker| 52| Other|        HR|  6285|  2015-04-01|             NULL|         8|Inactive|    Chicago|Evening|Data Engineer com...|        603360|\n",
      "|  9|     Jeremy Wright| 63|Female|     Sales|  9862|  2024-02-07|             NULL|         3|Inactive|   New York|  Night|Data Engineer com...|        355032|\n",
      "| 10|    Brian Faulkner| 30|  Male|        IT|  8202|  2018-05-26|              1.0|         9|  Active|Los Angeles|Morning|Data Engineer com...|        885816|\n",
      "| 11|       Nicole Bell| 42|Female|     Sales|  5336|  2015-01-28|              3.0|         7|  Active|Los Angeles|Evening|Data Engineer com...|        448224|\n",
      "| 12| Rodney Richardson| 60| Other|        HR|  6908|  2015-03-14|              4.0|        19|  Active|    Chicago|  Night|Data Engineer com...|       1575024|\n",
      "| 13|   Joshua Robinson| 61|  Male|        IT|  5688|  2020-06-21|             NULL|         4|Inactive|    Chicago|  Night|Data Engineer com...|        273024|\n",
      "| 14| Benjamin Callahan| 34|  Male|        IT|  5593|  2019-06-23|             NULL|         2|Inactive|Los Angeles|  Night|Data Engineer com...|        134232|\n",
      "| 15|Matthew Collins MD| 31|Female|     Sales|  8568|  2020-06-01|             NULL|        20|Inactive|Los Angeles|Evening|Data Engineer com...|       2056320|\n",
      "| 16|       Gary Cooley| 62|  Male|        HR|  5386|  2017-07-25|             NULL|         2|Inactive|    Chicago|Morning|Data Engineer com...|        129264|\n",
      "| 17|    Jonathan Perez| 59|  Male|        HR|  6586|  2019-02-19|              3.0|         7|Inactive|Los Angeles|Evening|Data Engineer com...|        553224|\n",
      "| 18|Jacqueline Randall| 31|Female|        HR|  3519|  2018-05-18|              4.0|         6|  Active|   New York|Morning|Data Engineer com...|        253368|\n",
      "| 19|    Nancy Stephens| 38|  Male|        HR|  9061|  2017-07-16|              5.0|        16|Inactive|    Chicago|  Night|Data Engineer com...|       1739712|\n",
      "| 20|      Victoria Fox| 57|Female|        HR|  7251|  2023-06-07|             NULL|        10|  Active|Los Angeles|Evening|Data Engineer com...|        870120|\n",
      "+---+------------------+---+------+----------+------+------------+-----------------+----------+--------+-----------+-------+--------------------+--------------+\n",
      "only showing top 20 rows\n",
      "\n"
     ]
    }
   ],
   "source": [
    "# Agregar una nueva columna con un valor constante y otra derivada de otras columnas\n",
    "df_aggregate = df.withColumn('const_value', F.lit('Data Engineer coming soon :D'))\\\n",
    "    .withColumn('variable_value',F.col('Salary')*F.col('Experience')*12)\n",
    "df_aggregate.show()"
   ]
  }
 ],
 "metadata": {
  "kernelspec": {
   "display_name": "Python 3 (ipykernel)",
   "language": "python",
   "name": "python3"
  },
  "language_info": {
   "codemirror_mode": {
    "name": "ipython",
    "version": 3
   },
   "file_extension": ".py",
   "mimetype": "text/x-python",
   "name": "python",
   "nbconvert_exporter": "python",
   "pygments_lexer": "ipython3",
   "version": "3.9.2"
  }
 },
 "nbformat": 4,
 "nbformat_minor": 5
}
