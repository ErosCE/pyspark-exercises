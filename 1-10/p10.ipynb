{
 "cells": [
  {
   "cell_type": "markdown",
   "id": "7f414cfc",
   "metadata": {},
   "source": [
    "# Pregunta 10\n",
    "Calcular el total acumulado de los precios de las acciones de cada símbolo <br>\n",
    "Dado un conjunto de datos de precios diarios de acciones con el símbolo de la acción y el precio, calcular el total acumulado de los precios de cada acción."
   ]
  },
  {
   "cell_type": "code",
   "execution_count": 14,
   "id": "05c11d8c",
   "metadata": {},
   "outputs": [],
   "source": [
    "from pyspark.sql import SparkSession\n",
    "from pyspark.sql import functions as F\n",
    "from pyspark.sql.window import Window\n",
    "spark = SparkSession.builder.appName('Pregunta10').getOrCreate()\n",
    "df = spark.read.csv('./datasets/World-Stock-Prices-Dataset.csv', header=True, inferSchema=True)"
   ]
  },
  {
   "cell_type": "code",
   "execution_count": 18,
   "id": "0fb41c1a",
   "metadata": {},
   "outputs": [
    {
     "name": "stdout",
     "output_type": "stream",
     "text": [
      "+-------------------+------------------+--------------------+------+------------+-------+\n",
      "|               Date|              Open|          Brand_Name|Ticker|Industry_Tag|Country|\n",
      "+-------------------+------------------+--------------------+------+------------+-------+\n",
      "|2025-07-03 04:00:00| 6.630000114440918|             peloton|  PTON|     fitness|    usa|\n",
      "|2025-07-03 04:00:00|            106.75|               crocs|  CROX|    footwear|    usa|\n",
      "|2025-07-03 04:00:00|122.62999725341795|              adidas| ADDYY|     apparel|germany|\n",
      "|2025-07-03 04:00:00| 221.7050018310547|              amazon|  AMZN|  e-commerce|    usa|\n",
      "|2025-07-03 04:00:00| 212.1450042724609|               apple|  AAPL|  technology|    usa|\n",
      "|2025-07-03 04:00:00| 76.26499938964844|                nike|   NKE|     apparel|    usa|\n",
      "|2025-07-03 04:00:00| 105.9499969482422|              target|   TGT|      retail|    usa|\n",
      "|2025-07-03 04:00:00|178.69500732421875|              google| GOOGL|  technology|    usa|\n",
      "|2025-07-03 04:00:00|             713.0|             spotify|  SPOT|       music|    usa|\n",
      "|2025-07-03 04:00:00|  77.5999984741211|zoom video commun...|    ZM|  technology|    usa|\n",
      "+-------------------+------------------+--------------------+------+------------+-------+\n",
      "only showing top 10 rows\n",
      "\n"
     ]
    }
   ],
   "source": [
    "# Dataframe simplificado que usaremos\n",
    "df2 = df.select(['Date','Open','Brand_Name','Ticker','Industry_Tag','Country'])\n",
    "df2.show(10)"
   ]
  },
  {
   "cell_type": "code",
   "execution_count": 19,
   "id": "1043d75b",
   "metadata": {},
   "outputs": [
    {
     "name": "stdout",
     "output_type": "stream",
     "text": [
      "+-------------------+------------------+----------+------+------------+-------+------------------+\n",
      "|               Date|              Open|Brand_Name|Ticker|Industry_Tag|Country|     running_total|\n",
      "+-------------------+------------------+----------+------+------------+-------+------------------+\n",
      "|2000-01-03 05:00:00|0.7947996042727937|     apple|  AAPL|  technology|    usa|0.7947996042727937|\n",
      "|2000-01-04 05:00:00|0.8203772166172846|     apple|  AAPL|  technology|    usa|1.6151768208900783|\n",
      "|2000-01-05 05:00:00|0.7862733670347287|     apple|  AAPL|  technology|    usa| 2.401450187924807|\n",
      "|2000-01-06 05:00:00|0.8042732030463084|     apple|  AAPL|  technology|    usa|3.2057233909711154|\n",
      "|2000-01-07 05:00:00|0.7313290205465904|     apple|  AAPL|  technology|    usa|3.9370524115177057|\n",
      "|2000-01-10 05:00:00| 0.773010889235254|     apple|  AAPL|  technology|    usa| 4.710063300752959|\n",
      "|2000-01-11 05:00:00|0.7270664203069314|     apple|  AAPL|  technology|    usa| 5.437129721059891|\n",
      "|2000-01-12 05:00:00| 0.719960918473428|     apple|  AAPL|  technology|    usa| 6.157090639533319|\n",
      "|2000-01-13 05:00:00|0.7160533251186976|     apple|  AAPL|  technology|    usa| 6.873143964652017|\n",
      "|2000-01-14 05:00:00|0.7578540834777794|     apple|  AAPL|  technology|    usa| 7.630998048129796|\n",
      "|2000-01-18 05:00:00|0.7654328899262195|     apple|  AAPL|  technology|    usa| 8.396430938056016|\n",
      "|2000-01-19 05:00:00|0.8004832438899164|     apple|  AAPL|  technology|    usa| 9.196914181945932|\n",
      "|2000-01-20 05:00:00|0.8753213241168024|     apple|  AAPL|  technology|    usa|10.072235506062734|\n",
      "|2000-01-21 05:00:00|0.8658478758698794|     apple|  AAPL|  technology|    usa|10.938083381932614|\n",
      "|2000-01-24 05:00:00|0.8217981125747833|     apple|  AAPL|  technology|    usa|11.759881494507397|\n",
      "|2000-01-25 05:00:00|0.7957465930626497|     apple|  AAPL|  technology|    usa|12.555628087570046|\n",
      "|2000-01-26 05:00:00|0.8336394163067938|     apple|  AAPL|  technology|    usa| 13.38926750387684|\n",
      "|2000-01-27 05:00:00|0.8246398223903114|     apple|  AAPL|  technology|    usa|14.213907326267151|\n",
      "|2000-01-28 05:00:00|0.8199033126753874|     apple|  AAPL|  technology|    usa|15.033810638942539|\n",
      "|2000-01-31 05:00:00|0.7654327332886739|     apple|  AAPL|  technology|    usa|15.799243372231214|\n",
      "+-------------------+------------------+----------+------+------------+-------+------------------+\n",
      "only showing top 20 rows\n",
      "\n"
     ]
    }
   ],
   "source": [
    "window_spect = Window.partitionBy(F.col('Ticker')).orderBy(F.col('Date').asc())\\\n",
    "                .rowsBetween(start = Window.unboundedPreceding, end = 0)\n",
    "df2.withColumn('running_total', F.sum(F.col('Open')).over(window_spect)).show()"
   ]
  }
 ],
 "metadata": {
  "kernelspec": {
   "display_name": "Python 3 (ipykernel)",
   "language": "python",
   "name": "python3"
  },
  "language_info": {
   "codemirror_mode": {
    "name": "ipython",
    "version": 3
   },
   "file_extension": ".py",
   "mimetype": "text/x-python",
   "name": "python",
   "nbconvert_exporter": "python",
   "pygments_lexer": "ipython3",
   "version": "3.9.2"
  }
 },
 "nbformat": 4,
 "nbformat_minor": 5
}
