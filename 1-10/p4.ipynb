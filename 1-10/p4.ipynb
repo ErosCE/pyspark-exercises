{
 "cells": [
  {
   "cell_type": "markdown",
   "id": "1c2e8166",
   "metadata": {},
   "source": [
    "# Pregunta 4\n",
    "Filtrar filas donde el salario se mayor a 5000 y seleccionar solo la columna de Name"
   ]
  },
  {
   "cell_type": "code",
   "execution_count": 1,
   "id": "c70376f3",
   "metadata": {},
   "outputs": [],
   "source": [
    "from pyspark.sql import SparkSession\n",
    "from pyspark.sql import functions as F "
   ]
  },
  {
   "cell_type": "code",
   "execution_count": 3,
   "id": "bd208c90",
   "metadata": {},
   "outputs": [],
   "source": [
    "spark = SparkSession.builder.appName(\"Pregunta4\").getOrCreate()\n",
    "\n",
    "df_salaries = spark.read.csv('./datasets/employees.csv', header=True, inferSchema=True)"
   ]
  },
  {
   "cell_type": "code",
   "execution_count": 7,
   "id": "3d80882c",
   "metadata": {},
   "outputs": [
    {
     "name": "stdout",
     "output_type": "stream",
     "text": [
      "+------------------+\n",
      "|              Name|\n",
      "+------------------+\n",
      "|      Cory Escobar|\n",
      "|Christine Williams|\n",
      "|       David Olson|\n",
      "|      Amanda Baker|\n",
      "|     Jeremy Wright|\n",
      "|    Brian Faulkner|\n",
      "|       Nicole Bell|\n",
      "| Rodney Richardson|\n",
      "|   Joshua Robinson|\n",
      "| Benjamin Callahan|\n",
      "|Matthew Collins MD|\n",
      "|       Gary Cooley|\n",
      "|    Jonathan Perez|\n",
      "|    Nancy Stephens|\n",
      "|      Victoria Fox|\n",
      "|      Bryce Carter|\n",
      "|   Marissa Stewart|\n",
      "|     Tracy Carlson|\n",
      "|    Tara Blackwell|\n",
      "|   Vickie Campbell|\n",
      "+------------------+\n",
      "only showing top 20 rows\n",
      "\n"
     ]
    }
   ],
   "source": [
    "name_salaries = df_salaries.filter(F.col(\"Salary\") > 5000).select(\"Name\")\n",
    "name_salaries.show()"
   ]
  }
 ],
 "metadata": {
  "kernelspec": {
   "display_name": "Python 3 (ipykernel)",
   "language": "python",
   "name": "python3"
  },
  "language_info": {
   "codemirror_mode": {
    "name": "ipython",
    "version": 3
   },
   "file_extension": ".py",
   "mimetype": "text/x-python",
   "name": "python",
   "nbconvert_exporter": "python",
   "pygments_lexer": "ipython3",
   "version": "3.9.2"
  }
 },
 "nbformat": 4,
 "nbformat_minor": 5
}
