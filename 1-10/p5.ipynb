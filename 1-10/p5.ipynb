{
 "cells": [
  {
   "cell_type": "markdown",
   "id": "5add2eb6",
   "metadata": {},
   "source": [
    "# Pregunta 5\n",
    "Eliminar filas con valores nulos en la columna de edad"
   ]
  },
  {
   "cell_type": "code",
   "execution_count": 16,
   "id": "e415aa63",
   "metadata": {},
   "outputs": [],
   "source": [
    "from pyspark.sql import SparkSession\n",
    "from pyspark.sql import functions as F\n",
    "\n",
    "spark = SparkSession.builder.appName(\"Pregunta5\").getOrCreate()\n",
    "\n",
    "df = spark.read.csv('./datasets/employees.csv', header=True, inferSchema=True)\n",
    "\n",
    "# Crear una df con Age null\n",
    "df_new = df.withColumn('Age_new', \n",
    "    F.when(F.col('ID') <= 500, F.col('Age'))\n",
    "     .otherwise(F.lit(None))\n",
    ")\n",
    "df_new = df_new.drop('Age')\n",
    "df_new = df_new.withColumnRenamed('Age_new', 'Age')\n"
   ]
  },
  {
   "cell_type": "code",
   "execution_count": 17,
   "id": "baae2b0a",
   "metadata": {},
   "outputs": [
    {
     "name": "stdout",
     "output_type": "stream",
     "text": [
      "+---+------------------+------+----------+------+------------+-----------------+----------+--------+-----------+-------+---+\n",
      "| ID|              Name|Gender|Department|Salary|Joining Date|Performance Score|Experience|  Status|   Location|Session|Age|\n",
      "+---+------------------+------+----------+------+------------+-----------------+----------+--------+-----------+-------+---+\n",
      "|  1|      Cory Escobar|Female|        HR|  5641|  2015-05-03|              2.0|        16|  Active|   New York|  Night| 48|\n",
      "|  2|   Timothy Sanchez| Other|     Sales|  4249|  2020-11-09|              2.0|        11|Inactive|Los Angeles|Evening| 25|\n",
      "|  3|      Chad Nichols| Other|     Sales|  3058|  2019-02-12|             NULL|         1|Inactive|   New York|Morning| 57|\n",
      "|  4|Christine Williams|Female|        IT|  5895|  2017-09-08|              2.0|        13|Inactive|Los Angeles|Evening| 58|\n",
      "|  5|      Amber Harris| Other|        IT|  4317|  2020-02-15|              5.0|        16|Inactive|   New York|Evening| 35|\n",
      "|  6|       Ashley Howe|Female|        HR|  2591|  2016-06-24|              1.0|         6|  Active|    Chicago|Evening| 29|\n",
      "|  7|       David Olson|Female|     Sales|  6826|  2023-05-11|             NULL|         4|  Active|   New York|  Night| 39|\n",
      "|  8|      Amanda Baker| Other|        HR|  6285|  2015-04-01|             NULL|         8|Inactive|    Chicago|Evening| 52|\n",
      "|  9|     Jeremy Wright|Female|     Sales|  9862|  2024-02-07|             NULL|         3|Inactive|   New York|  Night| 63|\n",
      "| 10|    Brian Faulkner|  Male|        IT|  8202|  2018-05-26|              1.0|         9|  Active|Los Angeles|Morning| 30|\n",
      "+---+------------------+------+----------+------+------------+-----------------+----------+--------+-----------+-------+---+\n",
      "only showing top 10 rows\n",
      "\n"
     ]
    }
   ],
   "source": [
    "df_new_filter = df_new.dropna(subset=['Age'])\n",
    "df_new_filter.show(10)"
   ]
  },
  {
   "cell_type": "code",
   "execution_count": 18,
   "id": "e3b42fa0",
   "metadata": {},
   "outputs": [
    {
     "name": "stdout",
     "output_type": "stream",
     "text": [
      "Número de filas originales: 1000\n",
      "Número de filas con Age no null: 500\n"
     ]
    }
   ],
   "source": [
    "print(\"Número de filas originales:\", df_new.count())\n",
    "print(\"Número de filas con Age no null:\", df_new_filter.count())"
   ]
  }
 ],
 "metadata": {
  "kernelspec": {
   "display_name": "Python 3 (ipykernel)",
   "language": "python",
   "name": "python3"
  },
  "language_info": {
   "codemirror_mode": {
    "name": "ipython",
    "version": 3
   },
   "file_extension": ".py",
   "mimetype": "text/x-python",
   "name": "python",
   "nbconvert_exporter": "python",
   "pygments_lexer": "ipython3",
   "version": "3.9.2"
  }
 },
 "nbformat": 4,
 "nbformat_minor": 5
}
