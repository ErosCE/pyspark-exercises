{
 "cells": [
  {
   "cell_type": "markdown",
   "id": "d36e570a",
   "metadata": {},
   "source": [
    "# Pregunta 12\n",
    "Crear una nueva columna derivada de columnas existentes"
   ]
  },
  {
   "cell_type": "code",
   "execution_count": 1,
   "id": "b28125fb",
   "metadata": {},
   "outputs": [
    {
     "name": "stderr",
     "output_type": "stream",
     "text": [
      "                                                                                \r"
     ]
    }
   ],
   "source": [
    "from pyspark.sql import SparkSession\n",
    "from pyspark.sql import functions as F \n",
    "\n",
    "spark = SparkSession.builder.appName(\"Pregunta 12\").getOrCreate()\n",
    "df = spark.read.csv(\"./datasets/World-Stock-Prices-Dataset.csv\", header=True, inferSchema=True)"
   ]
  },
  {
   "cell_type": "code",
   "execution_count": 2,
   "id": "6c833c25",
   "metadata": {},
   "outputs": [
    {
     "name": "stdout",
     "output_type": "stream",
     "text": [
      "+-------------------+------------------+------------------+-----------------+------------------+-----------+----------+------+------------+-------+---------+------------+-------------+\n",
      "|               Date|              Open|              High|              Low|             Close|     Volume|Brand_Name|Ticker|Industry_Tag|Country|Dividends|Stock Splits|Capital Gains|\n",
      "+-------------------+------------------+------------------+-----------------+------------------+-----------+----------+------+------------+-------+---------+------------+-------------+\n",
      "|2025-07-03 04:00:00| 6.630000114440918| 6.739999771118164|6.614999771118164| 6.639999866485596|  4209664.0|   peloton|  PTON|     fitness|    usa|      0.0|         0.0|         NULL|\n",
      "|2025-07-03 04:00:00|            106.75|108.37000274658205|106.3301010131836|107.33999633789062|   560190.0|     crocs|  CROX|    footwear|    usa|      0.0|         0.0|         NULL|\n",
      "|2025-07-03 04:00:00|122.62999725341795| 123.0500030517578|121.5500030517578|121.93000030517578|    36600.0|    adidas| ADDYY|     apparel|germany|      0.0|         0.0|         NULL|\n",
      "|2025-07-03 04:00:00| 221.7050018310547|224.00999450683597|221.3600006103516|223.41000366210935|2.9295154E7|    amazon|  AMZN|  e-commerce|    usa|      0.0|         0.0|         NULL|\n",
      "|2025-07-03 04:00:00| 212.1450042724609| 214.6499938964844|211.8101043701172| 213.5500030517578|3.4697317E7|     apple|  AAPL|  technology|    usa|      0.0|         0.0|         NULL|\n",
      "+-------------------+------------------+------------------+-----------------+------------------+-----------+----------+------+------------+-------+---------+------------+-------------+\n",
      "only showing top 5 rows\n",
      "\n"
     ]
    }
   ],
   "source": [
    "df.show(5)"
   ]
  },
  {
   "cell_type": "code",
   "execution_count": 11,
   "id": "3caba15c",
   "metadata": {},
   "outputs": [
    {
     "name": "stdout",
     "output_type": "stream",
     "text": [
      "+-------------------+------------------+------------------+-----------------+------------------+-----------+----------+------+------------+-------+---------+------------+-------------+--------------+\n",
      "|               Date|              Open|              High|              Low|             Close|     Volume|Brand_Name|Ticker|Industry_Tag|Country|Dividends|Stock Splits|Capital Gains|  name-country|\n",
      "+-------------------+------------------+------------------+-----------------+------------------+-----------+----------+------+------------+-------+---------+------------+-------------+--------------+\n",
      "|2025-07-03 04:00:00| 6.630000114440918| 6.739999771118164|6.614999771118164| 6.639999866485596|  4209664.0|   peloton|  PTON|     fitness|    usa|      0.0|         0.0|         NULL|   peloton-usa|\n",
      "|2025-07-03 04:00:00|            106.75|108.37000274658205|106.3301010131836|107.33999633789062|   560190.0|     crocs|  CROX|    footwear|    usa|      0.0|         0.0|         NULL|     crocs-usa|\n",
      "|2025-07-03 04:00:00|122.62999725341795| 123.0500030517578|121.5500030517578|121.93000030517578|    36600.0|    adidas| ADDYY|     apparel|germany|      0.0|         0.0|         NULL|adidas-germany|\n",
      "|2025-07-03 04:00:00| 221.7050018310547|224.00999450683597|221.3600006103516|223.41000366210935|2.9295154E7|    amazon|  AMZN|  e-commerce|    usa|      0.0|         0.0|         NULL|    amazon-usa|\n",
      "|2025-07-03 04:00:00| 212.1450042724609| 214.6499938964844|211.8101043701172| 213.5500030517578|3.4697317E7|     apple|  AAPL|  technology|    usa|      0.0|         0.0|         NULL|     apple-usa|\n",
      "+-------------------+------------------+------------------+-----------------+------------------+-----------+----------+------+------------+-------+---------+------------+-------------+--------------+\n",
      "only showing top 5 rows\n",
      "\n"
     ]
    }
   ],
   "source": [
    "#name-country\n",
    "df = df.withColumn(\"name-country\",F.concat(F.col(\"Brand_Name\"),F.lit(\"-\"),F.col(\"Country\")))\n",
    "df.show(5)"
   ]
  }
 ],
 "metadata": {
  "kernelspec": {
   "display_name": "Python 3 (ipykernel)",
   "language": "python",
   "name": "python3"
  },
  "language_info": {
   "codemirror_mode": {
    "name": "ipython",
    "version": 3
   },
   "file_extension": ".py",
   "mimetype": "text/x-python",
   "name": "python",
   "nbconvert_exporter": "python",
   "pygments_lexer": "ipython3",
   "version": "3.9.2"
  }
 },
 "nbformat": 4,
 "nbformat_minor": 5
}
