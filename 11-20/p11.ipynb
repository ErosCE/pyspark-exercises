{
 "cells": [
  {
   "cell_type": "markdown",
   "id": "ea41b6bd",
   "metadata": {},
   "source": [
    "# Pregunta 11\n",
    "Necesita renombrar una o más columnas en un DataFrame de PySpark"
   ]
  },
  {
   "cell_type": "code",
   "execution_count": 1,
   "id": "eef3c90f",
   "metadata": {},
   "outputs": [
    {
     "name": "stderr",
     "output_type": "stream",
     "text": [
      "                                                                                \r"
     ]
    }
   ],
   "source": [
    "from pyspark.sql import SparkSession\n",
    "from pyspark.sql import functions as F \n",
    "\n",
    "spark = SparkSession.builder.appName(\"Pregunta 11\").getOrCreate()\n",
    "df = spark.read.csv(\"./datasets/World-Stock-Prices-Dataset.csv\", header=True, inferSchema=True)"
   ]
  },
  {
   "cell_type": "code",
   "execution_count": 4,
   "id": "152cfcf1",
   "metadata": {},
   "outputs": [
    {
     "name": "stdout",
     "output_type": "stream",
     "text": [
      "+-------------------+------------------+------------------+-----------------+------------------+-----------+----------+------+------------+-------+---------+------------+-------------+\n",
      "|               Date|              Open|              High|              Low|             Close|     Volume|Brand_Name|Ticker|Industry_Tag|Country|Dividends|Stock Splits|Capital Gains|\n",
      "+-------------------+------------------+------------------+-----------------+------------------+-----------+----------+------+------------+-------+---------+------------+-------------+\n",
      "|2025-07-03 04:00:00| 6.630000114440918| 6.739999771118164|6.614999771118164| 6.639999866485596|  4209664.0|   peloton|  PTON|     fitness|    usa|      0.0|         0.0|         NULL|\n",
      "|2025-07-03 04:00:00|            106.75|108.37000274658205|106.3301010131836|107.33999633789062|   560190.0|     crocs|  CROX|    footwear|    usa|      0.0|         0.0|         NULL|\n",
      "|2025-07-03 04:00:00|122.62999725341795| 123.0500030517578|121.5500030517578|121.93000030517578|    36600.0|    adidas| ADDYY|     apparel|germany|      0.0|         0.0|         NULL|\n",
      "|2025-07-03 04:00:00| 221.7050018310547|224.00999450683597|221.3600006103516|223.41000366210935|2.9295154E7|    amazon|  AMZN|  e-commerce|    usa|      0.0|         0.0|         NULL|\n",
      "|2025-07-03 04:00:00| 212.1450042724609| 214.6499938964844|211.8101043701172| 213.5500030517578|3.4697317E7|     apple|  AAPL|  technology|    usa|      0.0|         0.0|         NULL|\n",
      "+-------------------+------------------+------------------+-----------------+------------------+-----------+----------+------+------------+-------+---------+------------+-------------+\n",
      "only showing top 5 rows\n",
      "\n"
     ]
    },
    {
     "data": {
      "text/plain": [
       "['Date',\n",
       " 'Open',\n",
       " 'High',\n",
       " 'Low',\n",
       " 'Close',\n",
       " 'Volume',\n",
       " 'Brand_Name',\n",
       " 'Ticker',\n",
       " 'Industry_Tag',\n",
       " 'Country',\n",
       " 'Dividends',\n",
       " 'Stock Splits',\n",
       " 'Capital Gains']"
      ]
     },
     "execution_count": 4,
     "metadata": {},
     "output_type": "execute_result"
    }
   ],
   "source": [
    "df.show(5)\n",
    "df.columns"
   ]
  },
  {
   "cell_type": "code",
   "execution_count": null,
   "id": "38370a3a",
   "metadata": {},
   "outputs": [
    {
     "name": "stdout",
     "output_type": "stream",
     "text": [
      "+-------------------+------------------+------------------+-----------------+------------------+-----------+----------+------+------------+-------+---------+------------+-------------+\n",
      "|               Date|    Precio Inicial|     Precio Maximo|    Precio Minimo|             Close|     Volume|Brand_Name|Ticker|Industry_Tag|Country|Dividends|Stock Splits|Capital Gains|\n",
      "+-------------------+------------------+------------------+-----------------+------------------+-----------+----------+------+------------+-------+---------+------------+-------------+\n",
      "|2025-07-03 04:00:00| 6.630000114440918| 6.739999771118164|6.614999771118164| 6.639999866485596|  4209664.0|   peloton|  PTON|     fitness|    usa|      0.0|         0.0|         NULL|\n",
      "|2025-07-03 04:00:00|            106.75|108.37000274658205|106.3301010131836|107.33999633789062|   560190.0|     crocs|  CROX|    footwear|    usa|      0.0|         0.0|         NULL|\n",
      "|2025-07-03 04:00:00|122.62999725341795| 123.0500030517578|121.5500030517578|121.93000030517578|    36600.0|    adidas| ADDYY|     apparel|germany|      0.0|         0.0|         NULL|\n",
      "|2025-07-03 04:00:00| 221.7050018310547|224.00999450683597|221.3600006103516|223.41000366210935|2.9295154E7|    amazon|  AMZN|  e-commerce|    usa|      0.0|         0.0|         NULL|\n",
      "|2025-07-03 04:00:00| 212.1450042724609| 214.6499938964844|211.8101043701172| 213.5500030517578|3.4697317E7|     apple|  AAPL|  technology|    usa|      0.0|         0.0|         NULL|\n",
      "+-------------------+------------------+------------------+-----------------+------------------+-----------+----------+------+------------+-------+---------+------------+-------------+\n",
      "only showing top 5 rows\n",
      "\n"
     ]
    }
   ],
   "source": [
    "df = df.withColumnRenamed(\"Open\",\"Precio Inicial\")\n",
    "df = df.withColumnRenamed(\"High\",\"Precio Maximo\")\\\n",
    "        .withColumnRenamed(\"Low\",\"Precio Minimo\")\n",
    "df.show(5)"
   ]
  }
 ],
 "metadata": {
  "kernelspec": {
   "display_name": "Python 3 (ipykernel)",
   "language": "python",
   "name": "python3"
  },
  "language_info": {
   "codemirror_mode": {
    "name": "ipython",
    "version": 3
   },
   "file_extension": ".py",
   "mimetype": "text/x-python",
   "name": "python",
   "nbconvert_exporter": "python",
   "pygments_lexer": "ipython3",
   "version": "3.9.2"
  }
 },
 "nbformat": 4,
 "nbformat_minor": 5
}
